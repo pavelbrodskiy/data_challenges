{
 "cells": [
  {
   "cell_type": "markdown",
   "metadata": {},
   "source": [
    "# Data Challenge: Funnel Analysis"
   ]
  },
  {
   "cell_type": "markdown",
   "metadata": {},
   "source": [
    "# Findings\n",
    "1. Something happened around 1.5 months ago that reduced the conversion rate\n",
    "    1. The number of mobile users using the search function has dropped 70%, while desktop users are unaffected.\n",
    "    1. The number of desktop users selecting an item from the search has dropped 50%, while mobile users are unaffected.\n",
    "1. Most of the loss in conversions happens at the last two steps, and the last step results in the greatest loss in conversions\n",
    "1. Sex doesn't seem to be important for conversion\n",
    "\n",
    "# Conclusions\n",
    "1. The portion of the funnel that has the lowest conversion rate is the last step: payment confirmation.\n",
    "1. The search function for mobile users may be bugged.\n",
    "1. The item selection function for desktop users may be bugged.\n"
   ]
  },
  {
   "cell_type": "code",
   "execution_count": 179,
   "metadata": {},
   "outputs": [],
   "source": [
    "import seaborn as sns\n",
    "import pandas as pd\n",
    "import matplotlib as mpl\n",
    "import numpy as np\n",
    "import random as rnd\n",
    "\n",
    "import matplotlib.pyplot as plt\n",
    "\n",
    "from sklearn.linear_model import LogisticRegression\n",
    "from sklearn.metrics import confusion_matrix\n",
    "from sklearn import metrics\n",
    "from sklearn.model_selection import train_test_split\n",
    "from sklearn.preprocessing import StandardScaler\n",
    "from sklearn.decomposition import PCA\n",
    "from sklearn.model_selection import train_test_split\n",
    "from sklearn.metrics import accuracy_score\n",
    "from sklearn.manifold import TSNE\n",
    "\n",
    "mpl.rcParams['figure.dpi'] = 150"
   ]
  },
  {
   "cell_type": "markdown",
   "metadata": {},
   "source": [
    "Import user page-view data"
   ]
  },
  {
   "cell_type": "code",
   "execution_count": 180,
   "metadata": {},
   "outputs": [
    {
     "data": {
      "text/html": [
       "<div>\n",
       "<style scoped>\n",
       "    .dataframe tbody tr th:only-of-type {\n",
       "        vertical-align: middle;\n",
       "    }\n",
       "\n",
       "    .dataframe tbody tr th {\n",
       "        vertical-align: top;\n",
       "    }\n",
       "\n",
       "    .dataframe thead th {\n",
       "        text-align: right;\n",
       "    }\n",
       "</style>\n",
       "<table border=\"1\" class=\"dataframe\">\n",
       "  <thead>\n",
       "    <tr style=\"text-align: right;\">\n",
       "      <th></th>\n",
       "      <th>user_id</th>\n",
       "      <th>page</th>\n",
       "    </tr>\n",
       "  </thead>\n",
       "  <tbody>\n",
       "    <tr>\n",
       "      <th>28468</th>\n",
       "      <td>17</td>\n",
       "      <td>search_page</td>\n",
       "    </tr>\n",
       "    <tr>\n",
       "      <th>78382</th>\n",
       "      <td>17</td>\n",
       "      <td>home_page</td>\n",
       "    </tr>\n",
       "    <tr>\n",
       "      <th>19852</th>\n",
       "      <td>28</td>\n",
       "      <td>home_page</td>\n",
       "    </tr>\n",
       "    <tr>\n",
       "      <th>30643</th>\n",
       "      <td>37</td>\n",
       "      <td>search_page</td>\n",
       "    </tr>\n",
       "    <tr>\n",
       "      <th>65331</th>\n",
       "      <td>37</td>\n",
       "      <td>home_page</td>\n",
       "    </tr>\n",
       "  </tbody>\n",
       "</table>\n",
       "</div>"
      ],
      "text/plain": [
       "       user_id         page\n",
       "28468       17  search_page\n",
       "78382       17    home_page\n",
       "19852       28    home_page\n",
       "30643       37  search_page\n",
       "65331       37    home_page"
      ]
     },
     "execution_count": 180,
     "metadata": {},
     "output_type": "execute_result"
    }
   ],
   "source": [
    "filenames = ['home_page_table.csv','payment_confirmation_table.csv','search_page_table.csv','payment_page_table.csv']\n",
    "\n",
    "tables = []\n",
    "for f in filenames:\n",
    "    tables.append(pd.read_csv(f, dtype={'user_id':'int', 'page':'str'}))\n",
    "\n",
    "df_page_views = pd.concat(tables)\n",
    "\n",
    "df_page_views.sort_values(by='user_id').head()"
   ]
  },
  {
   "cell_type": "code",
   "execution_count": 181,
   "metadata": {},
   "outputs": [
    {
     "name": "stdout",
     "output_type": "stream",
     "text": [
      "<class 'pandas.core.frame.DataFrame'>\n",
      "Int64Index: 142082 entries, 0 to 6029\n",
      "Data columns (total 2 columns):\n",
      "user_id    142082 non-null int64\n",
      "page       142082 non-null object\n",
      "dtypes: int64(1), object(1)\n",
      "memory usage: 3.3+ MB\n"
     ]
    }
   ],
   "source": [
    "df_page_views.info()"
   ]
  },
  {
   "cell_type": "markdown",
   "metadata": {},
   "source": [
    "Import user demographic data"
   ]
  },
  {
   "cell_type": "code",
   "execution_count": 250,
   "metadata": {},
   "outputs": [
    {
     "data": {
      "text/html": [
       "<div>\n",
       "<style scoped>\n",
       "    .dataframe tbody tr th:only-of-type {\n",
       "        vertical-align: middle;\n",
       "    }\n",
       "\n",
       "    .dataframe tbody tr th {\n",
       "        vertical-align: top;\n",
       "    }\n",
       "\n",
       "    .dataframe thead th {\n",
       "        text-align: right;\n",
       "    }\n",
       "</style>\n",
       "<table border=\"1\" class=\"dataframe\">\n",
       "  <thead>\n",
       "    <tr style=\"text-align: right;\">\n",
       "      <th></th>\n",
       "      <th>date</th>\n",
       "      <th>device</th>\n",
       "      <th>sex</th>\n",
       "    </tr>\n",
       "    <tr>\n",
       "      <th>user_id</th>\n",
       "      <th></th>\n",
       "      <th></th>\n",
       "      <th></th>\n",
       "    </tr>\n",
       "  </thead>\n",
       "  <tbody>\n",
       "    <tr>\n",
       "      <th>450007</th>\n",
       "      <td>2015-02-28</td>\n",
       "      <td>Desktop</td>\n",
       "      <td>Female</td>\n",
       "    </tr>\n",
       "    <tr>\n",
       "      <th>756838</th>\n",
       "      <td>2015-01-13</td>\n",
       "      <td>Desktop</td>\n",
       "      <td>Male</td>\n",
       "    </tr>\n",
       "    <tr>\n",
       "      <th>568983</th>\n",
       "      <td>2015-04-09</td>\n",
       "      <td>Desktop</td>\n",
       "      <td>Male</td>\n",
       "    </tr>\n",
       "    <tr>\n",
       "      <th>190794</th>\n",
       "      <td>2015-02-18</td>\n",
       "      <td>Desktop</td>\n",
       "      <td>Female</td>\n",
       "    </tr>\n",
       "    <tr>\n",
       "      <th>537909</th>\n",
       "      <td>2015-01-15</td>\n",
       "      <td>Desktop</td>\n",
       "      <td>Male</td>\n",
       "    </tr>\n",
       "  </tbody>\n",
       "</table>\n",
       "</div>"
      ],
      "text/plain": [
       "              date   device     sex\n",
       "user_id                            \n",
       "450007  2015-02-28  Desktop  Female\n",
       "756838  2015-01-13  Desktop    Male\n",
       "568983  2015-04-09  Desktop    Male\n",
       "190794  2015-02-18  Desktop  Female\n",
       "537909  2015-01-15  Desktop    Male"
      ]
     },
     "execution_count": 250,
     "metadata": {},
     "output_type": "execute_result"
    }
   ],
   "source": [
    "dtype = {'user_id': 'int',\n",
    "         'date':    'str',\n",
    "         'device':  'category',\n",
    "         'sex':     'category'}\n",
    "\n",
    "df_users = pd.read_csv('user_table.csv', dtype=dtype, parse_dates=['date'], index_col='user_id')\n",
    "\n",
    "df_users.head()"
   ]
  },
  {
   "cell_type": "code",
   "execution_count": 251,
   "metadata": {},
   "outputs": [
    {
     "name": "stdout",
     "output_type": "stream",
     "text": [
      "<class 'pandas.core.frame.DataFrame'>\n",
      "Int64Index: 90400 entries, 450007 to 438929\n",
      "Data columns (total 3 columns):\n",
      "date      90400 non-null datetime64[ns]\n",
      "device    90400 non-null category\n",
      "sex       90400 non-null category\n",
      "dtypes: category(2), datetime64[ns](1)\n",
      "memory usage: 1.6 MB\n"
     ]
    }
   ],
   "source": [
    "df_users.info()"
   ]
  },
  {
   "cell_type": "markdown",
   "metadata": {},
   "source": [
    "From the raw data, we are interested in each user's \"final\" destination on the site. We can classify each user based on their terminal location. This is an ordinal type with possible values:\n",
    "- No visit\n",
    "- Home page\n",
    "- Search page\n",
    "- Payment page\n",
    "- Confirmation page\n",
    "- Completed purchase"
   ]
  },
  {
   "cell_type": "code",
   "execution_count": 252,
   "metadata": {
    "scrolled": true
   },
   "outputs": [
    {
     "data": {
      "text/html": [
       "<div>\n",
       "<style scoped>\n",
       "    .dataframe tbody tr th:only-of-type {\n",
       "        vertical-align: middle;\n",
       "    }\n",
       "\n",
       "    .dataframe tbody tr th {\n",
       "        vertical-align: top;\n",
       "    }\n",
       "\n",
       "    .dataframe thead th {\n",
       "        text-align: right;\n",
       "    }\n",
       "</style>\n",
       "<table border=\"1\" class=\"dataframe\">\n",
       "  <thead>\n",
       "    <tr style=\"text-align: right;\">\n",
       "      <th></th>\n",
       "      <th>user_id</th>\n",
       "      <th>page</th>\n",
       "      <th>page_code</th>\n",
       "      <th>date</th>\n",
       "      <th>device</th>\n",
       "      <th>sex</th>\n",
       "    </tr>\n",
       "  </thead>\n",
       "  <tbody>\n",
       "    <tr>\n",
       "      <th>29659</th>\n",
       "      <td>298116</td>\n",
       "      <td>search_page</td>\n",
       "      <td>1</td>\n",
       "      <td>2015-01-09</td>\n",
       "      <td>Desktop</td>\n",
       "      <td>Female</td>\n",
       "    </tr>\n",
       "    <tr>\n",
       "      <th>2128</th>\n",
       "      <td>794897</td>\n",
       "      <td>home_page</td>\n",
       "      <td>0</td>\n",
       "      <td>2015-04-30</td>\n",
       "      <td>Desktop</td>\n",
       "      <td>Male</td>\n",
       "    </tr>\n",
       "    <tr>\n",
       "      <th>28580</th>\n",
       "      <td>965606</td>\n",
       "      <td>search_page</td>\n",
       "      <td>1</td>\n",
       "      <td>2015-04-11</td>\n",
       "      <td>Mobile</td>\n",
       "      <td>Male</td>\n",
       "    </tr>\n",
       "    <tr>\n",
       "      <th>31637</th>\n",
       "      <td>194154</td>\n",
       "      <td>search_page</td>\n",
       "      <td>1</td>\n",
       "      <td>2015-03-30</td>\n",
       "      <td>Desktop</td>\n",
       "      <td>Male</td>\n",
       "    </tr>\n",
       "    <tr>\n",
       "      <th>15122</th>\n",
       "      <td>288365</td>\n",
       "      <td>home_page</td>\n",
       "      <td>0</td>\n",
       "      <td>2015-03-21</td>\n",
       "      <td>Desktop</td>\n",
       "      <td>Female</td>\n",
       "    </tr>\n",
       "    <tr>\n",
       "      <th>35468</th>\n",
       "      <td>688623</td>\n",
       "      <td>search_page</td>\n",
       "      <td>1</td>\n",
       "      <td>2015-03-06</td>\n",
       "      <td>Desktop</td>\n",
       "      <td>Male</td>\n",
       "    </tr>\n",
       "    <tr>\n",
       "      <th>41617</th>\n",
       "      <td>684771</td>\n",
       "      <td>search_page</td>\n",
       "      <td>1</td>\n",
       "      <td>2015-01-12</td>\n",
       "      <td>Desktop</td>\n",
       "      <td>Male</td>\n",
       "    </tr>\n",
       "    <tr>\n",
       "      <th>87170</th>\n",
       "      <td>774206</td>\n",
       "      <td>home_page</td>\n",
       "      <td>0</td>\n",
       "      <td>2015-01-29</td>\n",
       "      <td>Desktop</td>\n",
       "      <td>Female</td>\n",
       "    </tr>\n",
       "    <tr>\n",
       "      <th>270</th>\n",
       "      <td>551623</td>\n",
       "      <td>payment_confirmation_page</td>\n",
       "      <td>3</td>\n",
       "      <td>2015-02-08</td>\n",
       "      <td>Mobile</td>\n",
       "      <td>Male</td>\n",
       "    </tr>\n",
       "    <tr>\n",
       "      <th>36885</th>\n",
       "      <td>313001</td>\n",
       "      <td>home_page</td>\n",
       "      <td>0</td>\n",
       "      <td>2015-01-17</td>\n",
       "      <td>Desktop</td>\n",
       "      <td>Female</td>\n",
       "    </tr>\n",
       "  </tbody>\n",
       "</table>\n",
       "</div>"
      ],
      "text/plain": [
       "       user_id                       page  page_code       date   device  \\\n",
       "29659   298116                search_page          1 2015-01-09  Desktop   \n",
       "2128    794897                  home_page          0 2015-04-30  Desktop   \n",
       "28580   965606                search_page          1 2015-04-11   Mobile   \n",
       "31637   194154                search_page          1 2015-03-30  Desktop   \n",
       "15122   288365                  home_page          0 2015-03-21  Desktop   \n",
       "35468   688623                search_page          1 2015-03-06  Desktop   \n",
       "41617   684771                search_page          1 2015-01-12  Desktop   \n",
       "87170   774206                  home_page          0 2015-01-29  Desktop   \n",
       "270     551623  payment_confirmation_page          3 2015-02-08   Mobile   \n",
       "36885   313001                  home_page          0 2015-01-17  Desktop   \n",
       "\n",
       "          sex  \n",
       "29659  Female  \n",
       "2128     Male  \n",
       "28580    Male  \n",
       "31637    Male  \n",
       "15122  Female  \n",
       "35468    Male  \n",
       "41617    Male  \n",
       "87170  Female  \n",
       "270      Male  \n",
       "36885  Female  "
      ]
     },
     "execution_count": 252,
     "metadata": {},
     "output_type": "execute_result"
    }
   ],
   "source": [
    "df_page_views.join(df_users, on='user_id', rsuffix='_usr').sample(10)"
   ]
  },
  {
   "cell_type": "markdown",
   "metadata": {},
   "source": [
    "It appears that demographic data is not available for most visitors to the site."
   ]
  },
  {
   "cell_type": "code",
   "execution_count": 188,
   "metadata": {},
   "outputs": [
    {
     "name": "stdout",
     "output_type": "stream",
     "text": [
      "<class 'pandas.core.frame.DataFrame'>\n",
      "Int64Index: 142082 entries, 0 to 6029\n",
      "Data columns (total 3 columns):\n",
      "user_id      142082 non-null int64\n",
      "page         142082 non-null category\n",
      "page_code    142082 non-null int8\n",
      "dtypes: category(1), int64(1), int8(1)\n",
      "memory usage: 2.4 MB\n"
     ]
    }
   ],
   "source": [
    "df_page_views.info()"
   ]
  },
  {
   "cell_type": "code",
   "execution_count": 189,
   "metadata": {},
   "outputs": [],
   "source": [
    "df_page_views['page'] = pd.Categorical(df_page_views['page'], \n",
    "                                       categories=['home_page', 'search_page', 'payment_page', 'payment_confirmation_page'],\n",
    "                                       ordered=True)"
   ]
  },
  {
   "cell_type": "code",
   "execution_count": 190,
   "metadata": {},
   "outputs": [],
   "source": [
    "df_page_views['page_code'] = df_page_views['page'].cat.codes"
   ]
  },
  {
   "cell_type": "code",
   "execution_count": 191,
   "metadata": {},
   "outputs": [
    {
     "data": {
      "text/html": [
       "<div>\n",
       "<style scoped>\n",
       "    .dataframe tbody tr th:only-of-type {\n",
       "        vertical-align: middle;\n",
       "    }\n",
       "\n",
       "    .dataframe tbody tr th {\n",
       "        vertical-align: top;\n",
       "    }\n",
       "\n",
       "    .dataframe thead th {\n",
       "        text-align: right;\n",
       "    }\n",
       "</style>\n",
       "<table border=\"1\" class=\"dataframe\">\n",
       "  <thead>\n",
       "    <tr style=\"text-align: right;\">\n",
       "      <th></th>\n",
       "      <th>user_id</th>\n",
       "      <th>page</th>\n",
       "      <th>page_code</th>\n",
       "    </tr>\n",
       "  </thead>\n",
       "  <tbody>\n",
       "    <tr>\n",
       "      <th>13472</th>\n",
       "      <td>409971</td>\n",
       "      <td>search_page</td>\n",
       "      <td>1</td>\n",
       "    </tr>\n",
       "    <tr>\n",
       "      <th>32463</th>\n",
       "      <td>331581</td>\n",
       "      <td>home_page</td>\n",
       "      <td>0</td>\n",
       "    </tr>\n",
       "    <tr>\n",
       "      <th>4469</th>\n",
       "      <td>684903</td>\n",
       "      <td>search_page</td>\n",
       "      <td>1</td>\n",
       "    </tr>\n",
       "    <tr>\n",
       "      <th>24044</th>\n",
       "      <td>936990</td>\n",
       "      <td>home_page</td>\n",
       "      <td>0</td>\n",
       "    </tr>\n",
       "    <tr>\n",
       "      <th>21198</th>\n",
       "      <td>114053</td>\n",
       "      <td>home_page</td>\n",
       "      <td>0</td>\n",
       "    </tr>\n",
       "  </tbody>\n",
       "</table>\n",
       "</div>"
      ],
      "text/plain": [
       "       user_id         page  page_code\n",
       "13472   409971  search_page          1\n",
       "32463   331581    home_page          0\n",
       "4469    684903  search_page          1\n",
       "24044   936990    home_page          0\n",
       "21198   114053    home_page          0"
      ]
     },
     "execution_count": 191,
     "metadata": {},
     "output_type": "execute_result"
    }
   ],
   "source": [
    "df_page_views.sample(5)"
   ]
  },
  {
   "cell_type": "code",
   "execution_count": 232,
   "metadata": {},
   "outputs": [],
   "source": [
    "highest_page = pd.DataFrame(df_page_views.join(df_users, on='user_id', rsuffix='_usr').groupby([\"user_id\"])[\"page_code\"].max())"
   ]
  },
  {
   "cell_type": "code",
   "execution_count": 234,
   "metadata": {},
   "outputs": [
    {
     "data": {
      "text/html": [
       "<div>\n",
       "<style scoped>\n",
       "    .dataframe tbody tr th:only-of-type {\n",
       "        vertical-align: middle;\n",
       "    }\n",
       "\n",
       "    .dataframe tbody tr th {\n",
       "        vertical-align: top;\n",
       "    }\n",
       "\n",
       "    .dataframe thead th {\n",
       "        text-align: right;\n",
       "    }\n",
       "</style>\n",
       "<table border=\"1\" class=\"dataframe\">\n",
       "  <thead>\n",
       "    <tr style=\"text-align: right;\">\n",
       "      <th></th>\n",
       "      <th>page_code</th>\n",
       "      <th>visited_site</th>\n",
       "      <th>performed_search</th>\n",
       "      <th>selected_item</th>\n",
       "      <th>completed_purchase</th>\n",
       "    </tr>\n",
       "    <tr>\n",
       "      <th>user_id</th>\n",
       "      <th></th>\n",
       "      <th></th>\n",
       "      <th></th>\n",
       "      <th></th>\n",
       "      <th></th>\n",
       "    </tr>\n",
       "  </thead>\n",
       "  <tbody>\n",
       "    <tr>\n",
       "      <th>17</th>\n",
       "      <td>1</td>\n",
       "      <td>False</td>\n",
       "      <td>True</td>\n",
       "      <td>False</td>\n",
       "      <td>False</td>\n",
       "    </tr>\n",
       "    <tr>\n",
       "      <th>28</th>\n",
       "      <td>0</td>\n",
       "      <td>True</td>\n",
       "      <td>False</td>\n",
       "      <td>False</td>\n",
       "      <td>False</td>\n",
       "    </tr>\n",
       "    <tr>\n",
       "      <th>37</th>\n",
       "      <td>1</td>\n",
       "      <td>False</td>\n",
       "      <td>True</td>\n",
       "      <td>False</td>\n",
       "      <td>False</td>\n",
       "    </tr>\n",
       "    <tr>\n",
       "      <th>38</th>\n",
       "      <td>2</td>\n",
       "      <td>False</td>\n",
       "      <td>False</td>\n",
       "      <td>True</td>\n",
       "      <td>False</td>\n",
       "    </tr>\n",
       "    <tr>\n",
       "      <th>55</th>\n",
       "      <td>0</td>\n",
       "      <td>True</td>\n",
       "      <td>False</td>\n",
       "      <td>False</td>\n",
       "      <td>False</td>\n",
       "    </tr>\n",
       "  </tbody>\n",
       "</table>\n",
       "</div>"
      ],
      "text/plain": [
       "         page_code  visited_site  performed_search  selected_item  \\\n",
       "user_id                                                             \n",
       "17               1         False              True          False   \n",
       "28               0          True             False          False   \n",
       "37               1         False              True          False   \n",
       "38               2         False             False           True   \n",
       "55               0          True             False          False   \n",
       "\n",
       "         completed_purchase  \n",
       "user_id                      \n",
       "17                    False  \n",
       "28                    False  \n",
       "37                    False  \n",
       "38                    False  \n",
       "55                    False  "
      ]
     },
     "execution_count": 234,
     "metadata": {},
     "output_type": "execute_result"
    }
   ],
   "source": [
    "highest_page['page_code_cat'] = highest_page['page_code']\n",
    "highest_page = pd.get_dummies(data=highest_page, columns=['page_code_cat'], dtype='bool', )\n",
    "highest_page.rename({'page_code_cat_0': 'visited_site',\n",
    "          'page_code_cat_1': 'performed_search',\n",
    "          'page_code_cat_2': 'selected_item',\n",
    "          'page_code_cat_3': 'completed_purchase'}, \n",
    "         inplace=True, axis='columns')\n",
    "highest_page.head()"
   ]
  },
  {
   "cell_type": "code",
   "execution_count": 235,
   "metadata": {},
   "outputs": [
    {
     "name": "stdout",
     "output_type": "stream",
     "text": [
      "<class 'pandas.core.frame.DataFrame'>\n",
      "Int64Index: 90400 entries, 17 to 999979\n",
      "Data columns (total 5 columns):\n",
      "page_code             90400 non-null int8\n",
      "visited_site          90400 non-null bool\n",
      "performed_search      90400 non-null bool\n",
      "selected_item         90400 non-null bool\n",
      "completed_purchase    90400 non-null bool\n",
      "dtypes: bool(4), int8(1)\n",
      "memory usage: 1.1 MB\n"
     ]
    }
   ],
   "source": [
    "highest_page.info()"
   ]
  },
  {
   "cell_type": "code",
   "execution_count": 240,
   "metadata": {},
   "outputs": [
    {
     "data": {
      "text/plain": [
       "{'search conversion': 0.8665929203539823,\n",
       " 'item selection conversion': 0.14240490171049272,\n",
       " 'payment conversion': 0.08103262818214414}"
      ]
     },
     "execution_count": 240,
     "metadata": {},
     "output_type": "execute_result"
    }
   ],
   "source": [
    "{'search conversion' : highest_page['performed_search'].sum() / highest_page['visited_site'].sum(),\n",
    "              'item selection conversion' : highest_page['selected_item'].sum() / highest_page['performed_search'].sum(),\n",
    "              'payment conversion' : highest_page['completed_purchase'].sum() / highest_page['selected_item'].sum()}"
   ]
  },
  {
   "cell_type": "code",
   "execution_count": 246,
   "metadata": {},
   "outputs": [],
   "source": [
    "conversion_type = ['search', 'item selection', 'payment']\n",
    "conversion_pct = [highest_page['performed_search'].sum()   / highest_page['visited_site'].sum(),\n",
    "                  highest_page['selected_item'].sum()      / highest_page['performed_search'].sum(),\n",
    "                  highest_page['completed_purchase'].sum() / highest_page['selected_item'].sum()]"
   ]
  },
  {
   "cell_type": "code",
   "execution_count": 255,
   "metadata": {},
   "outputs": [
    {
     "data": {
      "image/png": "[encoded data removed]",
      "text/plain": [
       "<Figure size 900x600 with 1 Axes>"
      ]
     },
     "metadata": {
      "needs_background": "light"
     },
     "output_type": "display_data"
    },
    {
     "data": {
      "image/png": "[encoded data removed]",
      "text/plain": [
       "<Figure size 900x600 with 1 Axes>"
      ]
     },
     "metadata": {
      "needs_background": "light"
     },
     "output_type": "display_data"
    }
   ],
   "source": [
    "sns.distplot(highest_page['page_code'], kde=False, bins=4)\n",
    "plt.xlabel('Farthest step')\n",
    "#plt.xticks(['home_page', 'search_page', 'payment_page', 'payment_confirmation_page'])\n",
    "plt.ylabel('Count')\n",
    "plt.show()\n",
    "\n",
    "sns.barplot(x=conversion_type, y=conversion_pct)\n",
    "plt.xlabel('Farthest step')\n",
    "plt.ylabel('Conversion rate (%)')\n",
    "plt.show()"
   ]
  },
  {
   "cell_type": "markdown",
   "metadata": {},
   "source": [
    "Here we see that most people who visit the site perform a search, many of those people do not select an item, and many people who select an item never complete the purchase. We should focus on the last two steps of the funnel."
   ]
  },
  {
   "cell_type": "code",
   "execution_count": 249,
   "metadata": {},
   "outputs": [
    {
     "data": {
      "text/html": [
       "<div>\n",
       "<style scoped>\n",
       "    .dataframe tbody tr th:only-of-type {\n",
       "        vertical-align: middle;\n",
       "    }\n",
       "\n",
       "    .dataframe tbody tr th {\n",
       "        vertical-align: top;\n",
       "    }\n",
       "\n",
       "    .dataframe thead th {\n",
       "        text-align: right;\n",
       "    }\n",
       "</style>\n",
       "<table border=\"1\" class=\"dataframe\">\n",
       "  <thead>\n",
       "    <tr style=\"text-align: right;\">\n",
       "      <th></th>\n",
       "      <th>page_code</th>\n",
       "      <th>visited_site</th>\n",
       "      <th>performed_search</th>\n",
       "      <th>selected_item</th>\n",
       "      <th>completed_purchase</th>\n",
       "    </tr>\n",
       "    <tr>\n",
       "      <th>user_id</th>\n",
       "      <th></th>\n",
       "      <th></th>\n",
       "      <th></th>\n",
       "      <th></th>\n",
       "      <th></th>\n",
       "    </tr>\n",
       "  </thead>\n",
       "  <tbody>\n",
       "    <tr>\n",
       "      <th>17</th>\n",
       "      <td>1</td>\n",
       "      <td>False</td>\n",
       "      <td>True</td>\n",
       "      <td>False</td>\n",
       "      <td>False</td>\n",
       "    </tr>\n",
       "    <tr>\n",
       "      <th>28</th>\n",
       "      <td>0</td>\n",
       "      <td>True</td>\n",
       "      <td>False</td>\n",
       "      <td>False</td>\n",
       "      <td>False</td>\n",
       "    </tr>\n",
       "    <tr>\n",
       "      <th>37</th>\n",
       "      <td>1</td>\n",
       "      <td>False</td>\n",
       "      <td>True</td>\n",
       "      <td>False</td>\n",
       "      <td>False</td>\n",
       "    </tr>\n",
       "    <tr>\n",
       "      <th>38</th>\n",
       "      <td>2</td>\n",
       "      <td>False</td>\n",
       "      <td>False</td>\n",
       "      <td>True</td>\n",
       "      <td>False</td>\n",
       "    </tr>\n",
       "    <tr>\n",
       "      <th>55</th>\n",
       "      <td>0</td>\n",
       "      <td>True</td>\n",
       "      <td>False</td>\n",
       "      <td>False</td>\n",
       "      <td>False</td>\n",
       "    </tr>\n",
       "  </tbody>\n",
       "</table>\n",
       "</div>"
      ],
      "text/plain": [
       "         page_code  visited_site  performed_search  selected_item  \\\n",
       "user_id                                                             \n",
       "17               1         False              True          False   \n",
       "28               0          True             False          False   \n",
       "37               1         False              True          False   \n",
       "38               2         False             False           True   \n",
       "55               0          True             False          False   \n",
       "\n",
       "         completed_purchase  \n",
       "user_id                      \n",
       "17                    False  \n",
       "28                    False  \n",
       "37                    False  \n",
       "38                    False  \n",
       "55                    False  "
      ]
     },
     "execution_count": 249,
     "metadata": {},
     "output_type": "execute_result"
    }
   ],
   "source": [
    "highest_page.head()"
   ]
  },
  {
   "cell_type": "code",
   "execution_count": 257,
   "metadata": {},
   "outputs": [],
   "source": [
    "df_users = df_users.join(highest_page)"
   ]
  },
  {
   "cell_type": "code",
   "execution_count": 258,
   "metadata": {},
   "outputs": [
    {
     "data": {
      "text/html": [
       "<div>\n",
       "<style scoped>\n",
       "    .dataframe tbody tr th:only-of-type {\n",
       "        vertical-align: middle;\n",
       "    }\n",
       "\n",
       "    .dataframe tbody tr th {\n",
       "        vertical-align: top;\n",
       "    }\n",
       "\n",
       "    .dataframe thead th {\n",
       "        text-align: right;\n",
       "    }\n",
       "</style>\n",
       "<table border=\"1\" class=\"dataframe\">\n",
       "  <thead>\n",
       "    <tr style=\"text-align: right;\">\n",
       "      <th></th>\n",
       "      <th>date</th>\n",
       "      <th>device</th>\n",
       "      <th>sex</th>\n",
       "      <th>page_code</th>\n",
       "      <th>visited_site</th>\n",
       "      <th>performed_search</th>\n",
       "      <th>selected_item</th>\n",
       "      <th>completed_purchase</th>\n",
       "    </tr>\n",
       "    <tr>\n",
       "      <th>user_id</th>\n",
       "      <th></th>\n",
       "      <th></th>\n",
       "      <th></th>\n",
       "      <th></th>\n",
       "      <th></th>\n",
       "      <th></th>\n",
       "      <th></th>\n",
       "      <th></th>\n",
       "    </tr>\n",
       "  </thead>\n",
       "  <tbody>\n",
       "    <tr>\n",
       "      <th>450007</th>\n",
       "      <td>2015-02-28</td>\n",
       "      <td>Desktop</td>\n",
       "      <td>Female</td>\n",
       "      <td>0</td>\n",
       "      <td>True</td>\n",
       "      <td>False</td>\n",
       "      <td>False</td>\n",
       "      <td>False</td>\n",
       "    </tr>\n",
       "    <tr>\n",
       "      <th>756838</th>\n",
       "      <td>2015-01-13</td>\n",
       "      <td>Desktop</td>\n",
       "      <td>Male</td>\n",
       "      <td>0</td>\n",
       "      <td>True</td>\n",
       "      <td>False</td>\n",
       "      <td>False</td>\n",
       "      <td>False</td>\n",
       "    </tr>\n",
       "    <tr>\n",
       "      <th>568983</th>\n",
       "      <td>2015-04-09</td>\n",
       "      <td>Desktop</td>\n",
       "      <td>Male</td>\n",
       "      <td>1</td>\n",
       "      <td>False</td>\n",
       "      <td>True</td>\n",
       "      <td>False</td>\n",
       "      <td>False</td>\n",
       "    </tr>\n",
       "    <tr>\n",
       "      <th>190794</th>\n",
       "      <td>2015-02-18</td>\n",
       "      <td>Desktop</td>\n",
       "      <td>Female</td>\n",
       "      <td>1</td>\n",
       "      <td>False</td>\n",
       "      <td>True</td>\n",
       "      <td>False</td>\n",
       "      <td>False</td>\n",
       "    </tr>\n",
       "    <tr>\n",
       "      <th>537909</th>\n",
       "      <td>2015-01-15</td>\n",
       "      <td>Desktop</td>\n",
       "      <td>Male</td>\n",
       "      <td>0</td>\n",
       "      <td>True</td>\n",
       "      <td>False</td>\n",
       "      <td>False</td>\n",
       "      <td>False</td>\n",
       "    </tr>\n",
       "  </tbody>\n",
       "</table>\n",
       "</div>"
      ],
      "text/plain": [
       "              date   device     sex  page_code  visited_site  \\\n",
       "user_id                                                        \n",
       "450007  2015-02-28  Desktop  Female          0          True   \n",
       "756838  2015-01-13  Desktop    Male          0          True   \n",
       "568983  2015-04-09  Desktop    Male          1         False   \n",
       "190794  2015-02-18  Desktop  Female          1         False   \n",
       "537909  2015-01-15  Desktop    Male          0          True   \n",
       "\n",
       "         performed_search  selected_item  completed_purchase  \n",
       "user_id                                                       \n",
       "450007              False          False               False  \n",
       "756838              False          False               False  \n",
       "568983               True          False               False  \n",
       "190794               True          False               False  \n",
       "537909              False          False               False  "
      ]
     },
     "execution_count": 258,
     "metadata": {},
     "output_type": "execute_result"
    }
   ],
   "source": [
    "df_users.head()"
   ]
  },
  {
   "cell_type": "code",
   "execution_count": 337,
   "metadata": {},
   "outputs": [
    {
     "name": "stderr",
     "output_type": "stream",
     "text": [
      "/home/pavel/anaconda3/lib/python3.6/site-packages/scipy/stats/stats.py:1713: FutureWarning: Using a non-tuple sequence for multidimensional indexing is deprecated; use `arr[tuple(seq)]` instead of `arr[seq]`. In the future this will be interpreted as an array index, `arr[np.array(seq)]`, which will result either in an error or a different result.\n",
      "  return np.add.reduce(sorted[indexer] * weights, axis=axis) / sumval\n"
     ]
    },
    {
     "data": {
      "image/png": "[encoded data removed]",
      "text/plain": [
       "<Figure size 900x600 with 4 Axes>"
      ]
     },
     "metadata": {
      "needs_background": "light"
     },
     "output_type": "display_data"
    }
   ],
   "source": [
    "plt.subplot(2,2,1)\n",
    "sns.barplot(data=df_users[df_users['page_code']>=2], x='sex', y='completed_purchase')\n",
    "plt.subplot(2,2,2)\n",
    "sns.barplot(data=df_users[df_users['page_code']>=2], x='device', y='completed_purchase')\n",
    "plt.subplot(2,2,3)\n",
    "sns.barplot(data=df_users, x='sex', y='completed_purchase')\n",
    "plt.subplot(2,2,4)\n",
    "sns.barplot(data=df_users, x='device', y='completed_purchase')\n",
    "plt.tight_layout()"
   ]
  },
  {
   "cell_type": "markdown",
   "metadata": {},
   "source": [
    "Ignoring missing values, we see almost double the conversion for mobile customers relative to desktop customers. Looking at the data over time, we see a decrease in the final conversion rate for both mobile and desktop customers."
   ]
  },
  {
   "cell_type": "code",
   "execution_count": 277,
   "metadata": {},
   "outputs": [
    {
     "data": {
      "text/plain": [
       "Text(0,0.5,'Count')"
      ]
     },
     "execution_count": 277,
     "metadata": {},
     "output_type": "execute_result"
    },
    {
     "data": {
      "image/png": "[encoded data removed]",
      "text/plain": [
       "<Figure size 900x600 with 1 Axes>"
      ]
     },
     "metadata": {
      "needs_background": "light"
     },
     "output_type": "display_data"
    }
   ],
   "source": [
    "df_users.groupby(df_users[\"date\"].dt.month)['date'].count().plot(kind=\"bar\")\n",
    "plt.xlabel('Month')\n",
    "plt.ylabel('Count')"
   ]
  },
  {
   "cell_type": "markdown",
   "metadata": {},
   "source": [
    "From this plot we can see that conversion rates have fallen for searches and item selection but not for payment confirmation. Since the total number of users visiting the site has not changed, this suggests the problem is related to the search results."
   ]
  },
  {
   "cell_type": "code",
   "execution_count": 355,
   "metadata": {},
   "outputs": [
    {
     "data": {
      "image/png": "[encoded data removed]",
      "text/plain": [
       "<Figure size 900x600 with 2 Axes>"
      ]
     },
     "metadata": {
      "needs_background": "light"
     },
     "output_type": "display_data"
    }
   ],
   "source": [
    "fig = plt.figure()\n",
    "plt.subplot(2,2,3)\n",
    "df = df_users[df_users.device == 'Desktop']\n",
    "\n",
    "df = df.set_index(df['date'])\n",
    "df = df.sort_index()\n",
    "\n",
    "df_mean1 = df[['performed_search']].resample('1w').mean()\n",
    "df_mean2 = df[['selected_item']].resample('1w').mean()\n",
    "df_mean3 = df[['completed_purchase']].resample('1w').mean()\n",
    "df_mean = df_mean1.join(df_mean2).join(df_mean3)\n",
    "df_mean['completed_purchase'] = df_mean['completed_purchase'] / df_mean['selected_item']\n",
    "df_mean['selected_item'] = df_mean['selected_item'] / df_mean['performed_search']\n",
    "df_mean['date'] = df_mean.index\n",
    "\n",
    "ax = sns.lineplot(data=df_mean, x='date', y='performed_search', legend=\"full\")\n",
    "ax = sns.lineplot(data=df_mean, x='date', y='selected_item', legend=\"full\")\n",
    "ax = sns.lineplot(data=df_mean, x='date', y='completed_purchase', legend=\"full\")\n",
    "    \n",
    "# Make plot look nice\n",
    "plt.xlim([np.min(df_users.date), np.max(df_users.date)])\n",
    "fig.autofmt_xdate()\n",
    "plt.xlabel('Date')\n",
    "plt.ylabel('Weekly Conversion Rate')\n",
    "plt.ylim([0,0.7])\n",
    "plt.title('Desktop Users')\n",
    "\n",
    "plt.subplot(2,2,4)\n",
    "df = df_users[df_users.device == 'Mobile']\n",
    "\n",
    "df = df.set_index(df['date'])\n",
    "df = df.sort_index()\n",
    "\n",
    "df_mean1 = df[['performed_search']].resample('1w').mean()\n",
    "df_mean2 = df[['selected_item']].resample('1w').mean()\n",
    "df_mean3 = df[['completed_purchase']].resample('1w').mean()\n",
    "df_mean = df_mean1.join(df_mean2).join(df_mean3)\n",
    "df_mean['completed_purchase'] = df_mean['completed_purchase'] / df_mean['selected_item']\n",
    "df_mean['selected_item'] = df_mean['selected_item'] / df_mean['performed_search']\n",
    "df_mean['date'] = df_mean.index\n",
    "\n",
    "ax = sns.lineplot(data=df_mean, x='date', y='performed_search', legend=\"full\")\n",
    "ax = sns.lineplot(data=df_mean, x='date', y='selected_item', legend=\"full\")\n",
    "ax = sns.lineplot(data=df_mean, x='date', y='completed_purchase', legend=\"full\")\n",
    "    \n",
    "# Make plot look nice\n",
    "plt.xlim([np.min(df_users.date), np.max(df_users.date)])\n",
    "fig.autofmt_xdate()\n",
    "plt.xlabel('Date')\n",
    "plt.ylabel('Weekly Conversion Rate')\n",
    "plt.ylim([0,0.7])\n",
    "fig.legend(labels=['Performed Search', 'Selected Item', 'Completed Purchase'], loc=\"lower center\")\n",
    "plt.title('Mobile Users')\n",
    "\n",
    "plt.tight_layout()\n",
    "\n",
    "savefig('Device_Segmentation.png', dpi=600)"
   ]
  },
  {
   "cell_type": "markdown",
   "metadata": {},
   "source": [
    "# Conclusions\n",
    "1. The portion of the funnel that has the lowest conversion rate is the last step: payment confirmation.\n",
    "1. The search function for mobile users may be bugged.\n",
    "1. The item selection function for desktop users may be bugged."
   ]
  }
 ],
 "metadata": {
  "kernelspec": {
   "display_name": "Python 3",
   "language": "python",
   "name": "python3"
  },
  "language_info": {
   "codemirror_mode": {
    "name": "ipython",
    "version": 3
   },
   "file_extension": ".py",
   "mimetype": "text/x-python",
   "name": "python",
   "nbconvert_exporter": "python",
   "pygments_lexer": "ipython3",
   "version": "3.6.5"
  }
 },
 "nbformat": 4,
 "nbformat_minor": 2
}
